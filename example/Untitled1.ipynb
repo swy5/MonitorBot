{
 "cells": [
  {
   "cell_type": "code",
   "execution_count": 3,
   "metadata": {
    "scrolled": true
   },
   "outputs": [],
   "source": [
    "import numpy as np\n",
    "import matplotlib.pyplot as plt\n",
    "from monitor_bot.bot import MonitorBot\n",
    "bot = MonitorBot()\n",
    "\n",
    "@bot.response_to(\"グラフ*\")\n",
    "def func(message):\n",
    "    ch = message['channel']\n",
    "    bot.send_message(ch, 'ちょっとまって')\n",
    "    plt.plot([1, 3, 2])\n",
    "    bot.upload_pyplot(ch, plt)"
   ]
  },
  {
   "cell_type": "code",
   "execution_count": null,
   "metadata": {},
   "outputs": [],
   "source": []
  },
  {
   "cell_type": "code",
   "execution_count": null,
   "metadata": {},
   "outputs": [],
   "source": [
    "# bot.send_message(\"@suwa\", \"Tekitou\")"
   ]
  },
  {
   "cell_type": "code",
   "execution_count": null,
   "metadata": {},
   "outputs": [],
   "source": [
    "\n",
    "# bot.upload_pillow(\"@suwa\", img)"
   ]
  },
  {
   "cell_type": "code",
   "execution_count": null,
   "metadata": {},
   "outputs": [],
   "source": [
    "\n",
    "# bot.upload_pyplot(\"@suwa\", plt);"
   ]
  },
  {
   "cell_type": "code",
   "execution_count": null,
   "metadata": {},
   "outputs": [],
   "source": [
    "@bot.response_to('^グラフ*')\n",
    "def func1(message):\n",
    "    bot.send_message(\"@suwa\", \"ちょっと待って\")\n",
    "    plt.plot([1, 2]);\n",
    "    bot.upload_pyplot(\"@suwa\", plt)\n",
    "    \n",
    "@bot.response_to('^画像*')\n",
    "def func2(message):\n",
    "    bot.send_message(\"@suwa\", \"ちょっと待って\")\n",
    "    bot.upload_pillow(\"@suwa\", Image.fromarray((np.random.rand(100, 100, 3)*100).astype(np.uint8)))"
   ]
  },
  {
   "cell_type": "code",
   "execution_count": null,
   "metadata": {},
   "outputs": [],
   "source": []
  },
  {
   "cell_type": "code",
   "execution_count": null,
   "metadata": {},
   "outputs": [],
   "source": []
  },
  {
   "cell_type": "code",
   "execution_count": null,
   "metadata": {},
   "outputs": [],
   "source": []
  }
 ],
 "metadata": {
  "kernelspec": {
   "display_name": "Python 3",
   "language": "python",
   "name": "python3"
  },
  "language_info": {
   "codemirror_mode": {
    "name": "ipython",
    "version": 3
   },
   "file_extension": ".py",
   "mimetype": "text/x-python",
   "name": "python",
   "nbconvert_exporter": "python",
   "pygments_lexer": "ipython3",
   "version": "3.5.2"
  }
 },
 "nbformat": 4,
 "nbformat_minor": 2
}
